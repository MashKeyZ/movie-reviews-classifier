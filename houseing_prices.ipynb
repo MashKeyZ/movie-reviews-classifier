{
  "nbformat": 4,
  "nbformat_minor": 0,
  "metadata": {
    "colab": {
      "provenance": [],
      "authorship_tag": "ABX9TyNNAeeyqHSOvcafjWarNcOP",
      "include_colab_link": true
    },
    "kernelspec": {
      "name": "python3",
      "display_name": "Python 3"
    },
    "language_info": {
      "name": "python"
    }
  },
  "cells": [
    {
      "cell_type": "markdown",
      "metadata": {
        "id": "view-in-github",
        "colab_type": "text"
      },
      "source": [
        "<a href=\"https://colab.research.google.com/github/MashKeyZ/movie-reviews-classifier/blob/main/houseing_prices.ipynb\" target=\"_parent\"><img src=\"https://colab.research.google.com/assets/colab-badge.svg\" alt=\"Open In Colab\"/></a>"
      ]
    },
    {
      "cell_type": "code",
      "execution_count": 1,
      "metadata": {
        "id": "k1q8foNl6Wk4"
      },
      "outputs": [],
      "source": [
        "import numpy as np\n",
        "import pandas as pd\n",
        "import tensorflow as tf\n",
        "from tensorflow import keras\n",
        "from sklearn.neighbors import KNeighborsClassifier\n",
        "from sklearn.svm import SVC\n",
        "import matplotlib.pyplot as plt"
      ]
    },
    {
      "cell_type": "code",
      "source": [
        "(x_train, y_train), (x_test, y_test)= keras.datasets.imdb.load_data(num_words=10000)\n"
      ],
      "metadata": {
        "id": "sVnVAa5d6loN"
      },
      "execution_count": 5,
      "outputs": []
    },
    {
      "cell_type": "code",
      "source": [
        "word_index = keras.datasets.imdb.get_word_index()\n",
        "word_index = {k:(v+3) for k,v in word_index.items()} #Adding 3 to each value, to open a space for the tags\n"
      ],
      "metadata": {
        "id": "TX2i91mm8VPT"
      },
      "execution_count": 8,
      "outputs": []
    },
    {
      "cell_type": "code",
      "source": [
        "word_index[\"<PAD>\"] = 0\n",
        "word_index[\"<START>\"] = 1\n",
        "word_index[\"<UNK>\"]=2\n",
        "word_index[\"<UNUSED>\"]=3"
      ],
      "metadata": {
        "id": "OmdCDukJ903O"
      },
      "execution_count": 9,
      "outputs": []
    },
    {
      "cell_type": "code",
      "source": [
        "#reverse the words so that the coded values can point to the words, swap the values with the keys\n",
        "reverse_word_index = dict([(value,key) for (key,value) in word_index.items()])\n"
      ],
      "metadata": {
        "id": "h1gTqJStBxoi"
      },
      "execution_count": 15,
      "outputs": []
    },
    {
      "cell_type": "markdown",
      "source": [
        "decode training data to human readable words"
      ],
      "metadata": {
        "id": "fIYbplHXDDAa"
      }
    },
    {
      "cell_type": "code",
      "source": [
        "def decode_review(text):\n",
        "  return \" \".join([reverse_word_index.get(i,\"?\") for i in text])"
      ],
      "metadata": {
        "id": "QjGCfCLwDAWf"
      },
      "execution_count": null,
      "outputs": []
    },
    {
      "cell_type": "markdown",
      "source": [
        "The data must be shaped for the input nuerons. The sentences will have different lenghts and we have to standardize the length of each setence using the <PAD>padding tag"
      ],
      "metadata": {
        "id": "TuJoRjxJFGIZ"
      }
    },
    {
      "cell_type": "code",
      "source": [
        "x_train = keras.preprocessing.sequence.pad_sequences(x_train,value=word_index[\"<PAD>\"],padding=\"post\",maxlen=250)\n",
        "x_test = keras.preprocessing.sequence.pad_sequences(x_test,value=word_index[\"<PAD>\"],padding=\"post\",maxlen=250)"
      ],
      "metadata": {
        "id": "UZjWoN05FXkD"
      },
      "execution_count": 16,
      "outputs": []
    },
    {
      "cell_type": "markdown",
      "source": [
        "**Create Model"
      ],
      "metadata": {
        "id": "O774HtrQGZaP"
      }
    },
    {
      "cell_type": "code",
      "source": [
        "model = keras.Sequential()\n",
        "model.add(keras.layers.Embedding(10000,16)) # Embedding layer to group words with similar meanings together\n",
        "model.add(keras.layers.GlobalAveragePooling1D())\n",
        "model.add(keras.layers.Dense(16,activation =\"relu\"))\n",
        "model.add(keras.layers.Dense(1,activation=\"sigmoid\"))"
      ],
      "metadata": {
        "id": "84psntaLGeWw"
      },
      "execution_count": 17,
      "outputs": []
    },
    {
      "cell_type": "code",
      "source": [
        "model.summary()"
      ],
      "metadata": {
        "colab": {
          "base_uri": "https://localhost:8080/"
        },
        "id": "MUDVc9rUHi2o",
        "outputId": "5c9cf258-2ae6-4d80-868a-28b2fc6f13d9"
      },
      "execution_count": 18,
      "outputs": [
        {
          "output_type": "stream",
          "name": "stdout",
          "text": [
            "Model: \"sequential\"\n",
            "_________________________________________________________________\n",
            " Layer (type)                Output Shape              Param #   \n",
            "=================================================================\n",
            " embedding (Embedding)       (None, None, 16)          160000    \n",
            "                                                                 \n",
            " global_average_pooling1d (  (None, 16)                0         \n",
            " GlobalAveragePooling1D)                                         \n",
            "                                                                 \n",
            " dense (Dense)               (None, 16)                272       \n",
            "                                                                 \n",
            " dense_1 (Dense)             (None, 1)                 17        \n",
            "                                                                 \n",
            "=================================================================\n",
            "Total params: 160289 (626.13 KB)\n",
            "Trainable params: 160289 (626.13 KB)\n",
            "Non-trainable params: 0 (0.00 Byte)\n",
            "_________________________________________________________________\n"
          ]
        }
      ]
    },
    {
      "cell_type": "code",
      "source": [
        "model.compile(\n",
        "    optimizer=\"adam\",\n",
        "    loss=\"binary_crossentropy\", #Since we are having 2 possible values\n",
        "    metrics=[\"accuracy\"]\n",
        ")"
      ],
      "metadata": {
        "id": "mKMlFxxpHnhF"
      },
      "execution_count": 19,
      "outputs": []
    },
    {
      "cell_type": "markdown",
      "source": [
        "split data for training and validation"
      ],
      "metadata": {
        "id": "HblW8iq2JKXM"
      }
    },
    {
      "cell_type": "code",
      "source": [
        "y_val = y_train[:10000]\n",
        "y_train = y_train[10000:]\n",
        "\n",
        "x_val = x_train[:10000]\n",
        "x_train = x_train[10000:]"
      ],
      "metadata": {
        "id": "9dKJ0tfYH8XV"
      },
      "execution_count": 22,
      "outputs": []
    },
    {
      "cell_type": "code",
      "source": [
        "fitModel = model.fit(\n",
        "    x_train,y_train,epochs = 10, batch_size = 512, validation_data = (x_val,y_val),verbose=1\n",
        ")"
      ],
      "metadata": {
        "colab": {
          "base_uri": "https://localhost:8080/"
        },
        "id": "4q4tE6z-JN4H",
        "outputId": "30d79557-b756-42a2-d748-e8b573c50d20"
      },
      "execution_count": 26,
      "outputs": [
        {
          "output_type": "stream",
          "name": "stdout",
          "text": [
            "Epoch 1/10\n",
            "30/30 [==============================] - 1s 47ms/step - loss: 0.6156 - accuracy: 0.7797 - val_loss: 0.6041 - val_accuracy: 0.7871\n",
            "Epoch 2/10\n",
            "30/30 [==============================] - 1s 31ms/step - loss: 0.5748 - accuracy: 0.8102 - val_loss: 0.5637 - val_accuracy: 0.8016\n",
            "Epoch 3/10\n",
            "30/30 [==============================] - 1s 39ms/step - loss: 0.5296 - accuracy: 0.8273 - val_loss: 0.5226 - val_accuracy: 0.8166\n",
            "Epoch 4/10\n",
            "30/30 [==============================] - 1s 43ms/step - loss: 0.4836 - accuracy: 0.8447 - val_loss: 0.4828 - val_accuracy: 0.8307\n",
            "Epoch 5/10\n",
            "30/30 [==============================] - 1s 21ms/step - loss: 0.4409 - accuracy: 0.8604 - val_loss: 0.4460 - val_accuracy: 0.8419\n",
            "Epoch 6/10\n",
            "30/30 [==============================] - 1s 25ms/step - loss: 0.4028 - accuracy: 0.8724 - val_loss: 0.4162 - val_accuracy: 0.8502\n",
            "Epoch 7/10\n",
            "30/30 [==============================] - 1s 22ms/step - loss: 0.3709 - accuracy: 0.8796 - val_loss: 0.3908 - val_accuracy: 0.8567\n",
            "Epoch 8/10\n",
            "30/30 [==============================] - 1s 22ms/step - loss: 0.3430 - accuracy: 0.8880 - val_loss: 0.3706 - val_accuracy: 0.8614\n",
            "Epoch 9/10\n",
            "30/30 [==============================] - 1s 19ms/step - loss: 0.3194 - accuracy: 0.8934 - val_loss: 0.3540 - val_accuracy: 0.8657\n",
            "Epoch 10/10\n",
            "30/30 [==============================] - 1s 19ms/step - loss: 0.2994 - accuracy: 0.8987 - val_loss: 0.3412 - val_accuracy: 0.8670\n"
          ]
        }
      ]
    },
    {
      "cell_type": "code",
      "source": [
        "acc = model.evaluate(x_test,y_test)\n",
        "\n",
        "print(\"Model accuracy : \",acc)"
      ],
      "metadata": {
        "colab": {
          "base_uri": "https://localhost:8080/"
        },
        "id": "mZ56TG4iLMao",
        "outputId": "b82d9e7f-314d-45b5-a60e-d7e195cad640"
      },
      "execution_count": 27,
      "outputs": [
        {
          "output_type": "stream",
          "name": "stdout",
          "text": [
            "782/782 [==============================] - 2s 3ms/step - loss: 0.3519 - accuracy: 0.8612\n",
            "Model accuracy :  [0.3519497215747833, 0.8611999750137329]\n"
          ]
        }
      ]
    }
  ]
}